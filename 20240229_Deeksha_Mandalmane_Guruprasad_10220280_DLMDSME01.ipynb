{
 "cells": [
  {
   "cell_type": "markdown",
   "id": "6f7d7b44",
   "metadata": {},
   "source": [
    "# Credit Card Routing for Online Purchase via Predictive Modelling"
   ]
  },
  {
   "cell_type": "markdown",
   "id": "66acb58f",
   "metadata": {},
   "source": [
    "## Understanding Data"
   ]
  },
  {
   "cell_type": "code",
   "execution_count": 1,
   "id": "4b46ac0b",
   "metadata": {},
   "outputs": [],
   "source": [
    "# Importing the necessary libraries\n",
    "\n",
    "import numpy as np\n",
    "import pandas as pd\n",
    "import matplotlib.pyplot as plt\n",
    "import seaborn as sns\n",
    "\n",
    "pd.set_option(\"display.max_columns\", 500)\n",
    "\n",
    "%matplotlib inline"
   ]
  },
  {
   "cell_type": "code",
   "execution_count": 2,
   "id": "64ffd21e",
   "metadata": {},
   "outputs": [],
   "source": [
    "# Supressing the warnings\n",
    "\n",
    "import warnings \n",
    "warnings.filterwarnings('ignore')"
   ]
  },
  {
   "cell_type": "code",
   "execution_count": 3,
   "id": "aa71250e",
   "metadata": {},
   "outputs": [],
   "source": [
    "# Loading the dataset\n",
    "\n",
    "ccr_ds = pd.read_excel(\"PSP_Jan_Feb_2019.xlsx\", index_col = 0)"
   ]
  },
  {
   "cell_type": "code",
   "execution_count": 4,
   "id": "98d1ddf9",
   "metadata": {},
   "outputs": [
    {
     "data": {
      "text/html": [
       "<div>\n",
       "<style scoped>\n",
       "    .dataframe tbody tr th:only-of-type {\n",
       "        vertical-align: middle;\n",
       "    }\n",
       "\n",
       "    .dataframe tbody tr th {\n",
       "        vertical-align: top;\n",
       "    }\n",
       "\n",
       "    .dataframe thead th {\n",
       "        text-align: right;\n",
       "    }\n",
       "</style>\n",
       "<table border=\"1\" class=\"dataframe\">\n",
       "  <thead>\n",
       "    <tr style=\"text-align: right;\">\n",
       "      <th></th>\n",
       "      <th>tmsp</th>\n",
       "      <th>country</th>\n",
       "      <th>amount</th>\n",
       "      <th>success</th>\n",
       "      <th>PSP</th>\n",
       "      <th>3D_secured</th>\n",
       "      <th>card</th>\n",
       "    </tr>\n",
       "  </thead>\n",
       "  <tbody>\n",
       "    <tr>\n",
       "      <th>0</th>\n",
       "      <td>2019-01-01 00:01:11</td>\n",
       "      <td>Germany</td>\n",
       "      <td>89</td>\n",
       "      <td>0</td>\n",
       "      <td>UK_Card</td>\n",
       "      <td>0</td>\n",
       "      <td>Visa</td>\n",
       "    </tr>\n",
       "    <tr>\n",
       "      <th>1</th>\n",
       "      <td>2019-01-01 00:01:17</td>\n",
       "      <td>Germany</td>\n",
       "      <td>89</td>\n",
       "      <td>1</td>\n",
       "      <td>UK_Card</td>\n",
       "      <td>0</td>\n",
       "      <td>Visa</td>\n",
       "    </tr>\n",
       "    <tr>\n",
       "      <th>2</th>\n",
       "      <td>2019-01-01 00:02:49</td>\n",
       "      <td>Germany</td>\n",
       "      <td>238</td>\n",
       "      <td>0</td>\n",
       "      <td>UK_Card</td>\n",
       "      <td>1</td>\n",
       "      <td>Diners</td>\n",
       "    </tr>\n",
       "    <tr>\n",
       "      <th>3</th>\n",
       "      <td>2019-01-01 00:03:13</td>\n",
       "      <td>Germany</td>\n",
       "      <td>238</td>\n",
       "      <td>1</td>\n",
       "      <td>UK_Card</td>\n",
       "      <td>1</td>\n",
       "      <td>Diners</td>\n",
       "    </tr>\n",
       "    <tr>\n",
       "      <th>4</th>\n",
       "      <td>2019-01-01 00:04:33</td>\n",
       "      <td>Austria</td>\n",
       "      <td>124</td>\n",
       "      <td>0</td>\n",
       "      <td>Simplecard</td>\n",
       "      <td>0</td>\n",
       "      <td>Diners</td>\n",
       "    </tr>\n",
       "  </tbody>\n",
       "</table>\n",
       "</div>"
      ],
      "text/plain": [
       "                 tmsp  country  amount  success         PSP  3D_secured  \\\n",
       "0 2019-01-01 00:01:11  Germany      89        0     UK_Card           0   \n",
       "1 2019-01-01 00:01:17  Germany      89        1     UK_Card           0   \n",
       "2 2019-01-01 00:02:49  Germany     238        0     UK_Card           1   \n",
       "3 2019-01-01 00:03:13  Germany     238        1     UK_Card           1   \n",
       "4 2019-01-01 00:04:33  Austria     124        0  Simplecard           0   \n",
       "\n",
       "     card  \n",
       "0    Visa  \n",
       "1    Visa  \n",
       "2  Diners  \n",
       "3  Diners  \n",
       "4  Diners  "
      ]
     },
     "execution_count": 4,
     "metadata": {},
     "output_type": "execute_result"
    }
   ],
   "source": [
    "# Inspecting the head of the dataset\n",
    "\n",
    "ccr_ds.head()"
   ]
  },
  {
   "cell_type": "code",
   "execution_count": 5,
   "id": "2692b6dd",
   "metadata": {},
   "outputs": [
    {
     "name": "stdout",
     "output_type": "stream",
     "text": [
      "Dataset shape: (50410, 7)\n"
     ]
    }
   ],
   "source": [
    "# Checking the total number of rows and columns of the dataset\n",
    "\n",
    "print(\"Dataset shape:\", ccr_ds.shape)"
   ]
  },
  {
   "cell_type": "code",
   "execution_count": 6,
   "id": "5e36191e",
   "metadata": {},
   "outputs": [
    {
     "name": "stdout",
     "output_type": "stream",
     "text": [
      "<class 'pandas.core.frame.DataFrame'>\n",
      "Int64Index: 50410 entries, 0 to 50409\n",
      "Data columns (total 7 columns):\n",
      " #   Column      Non-Null Count  Dtype         \n",
      "---  ------      --------------  -----         \n",
      " 0   tmsp        50410 non-null  datetime64[ns]\n",
      " 1   country     50410 non-null  object        \n",
      " 2   amount      50410 non-null  int64         \n",
      " 3   success     50410 non-null  int64         \n",
      " 4   PSP         50410 non-null  object        \n",
      " 5   3D_secured  50410 non-null  int64         \n",
      " 6   card        50410 non-null  object        \n",
      "dtypes: datetime64[ns](1), int64(3), object(3)\n",
      "memory usage: 3.1+ MB\n"
     ]
    }
   ],
   "source": [
    "# Inspecting the descriptive information of the dataset\n",
    "\n",
    "ccr_ds.info()"
   ]
  },
  {
   "cell_type": "code",
   "execution_count": 7,
   "id": "07bcae4c",
   "metadata": {},
   "outputs": [
    {
     "data": {
      "text/html": [
       "<div>\n",
       "<style scoped>\n",
       "    .dataframe tbody tr th:only-of-type {\n",
       "        vertical-align: middle;\n",
       "    }\n",
       "\n",
       "    .dataframe tbody tr th {\n",
       "        vertical-align: top;\n",
       "    }\n",
       "\n",
       "    .dataframe thead th {\n",
       "        text-align: right;\n",
       "    }\n",
       "</style>\n",
       "<table border=\"1\" class=\"dataframe\">\n",
       "  <thead>\n",
       "    <tr style=\"text-align: right;\">\n",
       "      <th></th>\n",
       "      <th>amount</th>\n",
       "      <th>success</th>\n",
       "      <th>3D_secured</th>\n",
       "    </tr>\n",
       "  </thead>\n",
       "  <tbody>\n",
       "    <tr>\n",
       "      <th>count</th>\n",
       "      <td>50410.000000</td>\n",
       "      <td>50410.000000</td>\n",
       "      <td>50410.000000</td>\n",
       "    </tr>\n",
       "    <tr>\n",
       "      <th>mean</th>\n",
       "      <td>202.395715</td>\n",
       "      <td>0.202896</td>\n",
       "      <td>0.238266</td>\n",
       "    </tr>\n",
       "    <tr>\n",
       "      <th>std</th>\n",
       "      <td>96.274730</td>\n",
       "      <td>0.402160</td>\n",
       "      <td>0.426027</td>\n",
       "    </tr>\n",
       "    <tr>\n",
       "      <th>min</th>\n",
       "      <td>6.000000</td>\n",
       "      <td>0.000000</td>\n",
       "      <td>0.000000</td>\n",
       "    </tr>\n",
       "    <tr>\n",
       "      <th>25%</th>\n",
       "      <td>133.000000</td>\n",
       "      <td>0.000000</td>\n",
       "      <td>0.000000</td>\n",
       "    </tr>\n",
       "    <tr>\n",
       "      <th>50%</th>\n",
       "      <td>201.000000</td>\n",
       "      <td>0.000000</td>\n",
       "      <td>0.000000</td>\n",
       "    </tr>\n",
       "    <tr>\n",
       "      <th>75%</th>\n",
       "      <td>269.000000</td>\n",
       "      <td>0.000000</td>\n",
       "      <td>0.000000</td>\n",
       "    </tr>\n",
       "    <tr>\n",
       "      <th>max</th>\n",
       "      <td>630.000000</td>\n",
       "      <td>1.000000</td>\n",
       "      <td>1.000000</td>\n",
       "    </tr>\n",
       "  </tbody>\n",
       "</table>\n",
       "</div>"
      ],
      "text/plain": [
       "             amount       success    3D_secured\n",
       "count  50410.000000  50410.000000  50410.000000\n",
       "mean     202.395715      0.202896      0.238266\n",
       "std       96.274730      0.402160      0.426027\n",
       "min        6.000000      0.000000      0.000000\n",
       "25%      133.000000      0.000000      0.000000\n",
       "50%      201.000000      0.000000      0.000000\n",
       "75%      269.000000      0.000000      0.000000\n",
       "max      630.000000      1.000000      1.000000"
      ]
     },
     "execution_count": 7,
     "metadata": {},
     "output_type": "execute_result"
    }
   ],
   "source": [
    "# Inspecting the statistical details of the dataset\n",
    "\n",
    "ccr_ds.describe()"
   ]
  },
  {
   "cell_type": "code",
   "execution_count": 8,
   "id": "28ab34d8",
   "metadata": {},
   "outputs": [
    {
     "name": "stdout",
     "output_type": "stream",
     "text": [
      "Index(['tmsp', 'country', 'amount', 'success', 'PSP', '3D_secured', 'card'], dtype='object')\n"
     ]
    }
   ],
   "source": [
    "# Checking the columns\n",
    "\n",
    "print(ccr_ds.columns)"
   ]
  },
  {
   "cell_type": "code",
   "execution_count": 9,
   "id": "8951d883",
   "metadata": {},
   "outputs": [
    {
     "name": "stdout",
     "output_type": "stream",
     "text": [
      "tmsp          datetime64[ns]\n",
      "country               object\n",
      "amount                 int64\n",
      "success                int64\n",
      "PSP                   object\n",
      "3D_secured             int64\n",
      "card                  object\n",
      "dtype: object\n"
     ]
    }
   ],
   "source": [
    "# Checking the datatypes\n",
    "\n",
    "print(ccr_ds.dtypes)"
   ]
  },
  {
   "cell_type": "markdown",
   "id": "9b0ecb28",
   "metadata": {},
   "source": [
    "## Exploratory Data Analysis"
   ]
  },
  {
   "cell_type": "code",
   "execution_count": 10,
   "id": "bae77ec2",
   "metadata": {},
   "outputs": [
    {
     "data": {
      "text/plain": [
       "tmsp          0\n",
       "country       0\n",
       "amount        0\n",
       "success       0\n",
       "PSP           0\n",
       "3D_secured    0\n",
       "card          0\n",
       "dtype: int64"
      ]
     },
     "execution_count": 10,
     "metadata": {},
     "output_type": "execute_result"
    }
   ],
   "source": [
    "# Checking for the null values in the dataset\n",
    "\n",
    "ccr_ds.isnull().sum()"
   ]
  },
  {
   "cell_type": "code",
   "execution_count": 11,
   "id": "0788fb93",
   "metadata": {},
   "outputs": [
    {
     "data": {
      "text/plain": [
       "tmsp          50121\n",
       "country           3\n",
       "amount          517\n",
       "success           2\n",
       "PSP               4\n",
       "3D_secured        2\n",
       "card              3\n",
       "dtype: int64"
      ]
     },
     "execution_count": 11,
     "metadata": {},
     "output_type": "execute_result"
    }
   ],
   "source": [
    "# Checking the columns for unique values in the dataset\n",
    "\n",
    "ccr_ds.nunique()"
   ]
  },
  {
   "cell_type": "code",
   "execution_count": 12,
   "id": "62aa3740",
   "metadata": {},
   "outputs": [
    {
     "data": {
      "text/plain": [
       "81"
      ]
     },
     "execution_count": 12,
     "metadata": {},
     "output_type": "execute_result"
    }
   ],
   "source": [
    "# Checking the duplicates in the dataset\n",
    "\n",
    "ccr_ds.duplicated().sum()"
   ]
  },
  {
   "cell_type": "code",
   "execution_count": 13,
   "id": "224ea1c0",
   "metadata": {},
   "outputs": [
    {
     "name": "stdout",
     "output_type": "stream",
     "text": [
      "country - ['Germany' 'Austria' 'Switzerland']\n",
      "success - [0 1]\n",
      "PSP - ['UK_Card' 'Simplecard' 'Moneycard' 'Goldcard']\n",
      "3D_secured - [0 1]\n",
      "card - ['Visa' 'Diners' 'Master']\n"
     ]
    }
   ],
   "source": [
    "# Printing the unique values\n",
    "\n",
    "for column in [\"country\", \"success\", \"PSP\", \"3D_secured\", \"card\"]:\n",
    "    print(column, \"-\", ccr_ds[column].unique())"
   ]
  },
  {
   "cell_type": "code",
   "execution_count": 14,
   "id": "10509ce8",
   "metadata": {},
   "outputs": [],
   "source": [
    "# Dropping the duplicates\n",
    "\n",
    "ccr_ds.drop_duplicates(inplace = True)"
   ]
  },
  {
   "cell_type": "code",
   "execution_count": 15,
   "id": "79648165",
   "metadata": {},
   "outputs": [
    {
     "name": "stdout",
     "output_type": "stream",
     "text": [
      "(50329, 7)\n"
     ]
    }
   ],
   "source": [
    "# Checking the total number of rows and columns of the dataset\n",
    "\n",
    "print(ccr_ds.shape)"
   ]
  },
  {
   "cell_type": "code",
   "execution_count": 16,
   "id": "4de9cc6d",
   "metadata": {},
   "outputs": [
    {
     "data": {
      "text/html": [
       "<div>\n",
       "<style scoped>\n",
       "    .dataframe tbody tr th:only-of-type {\n",
       "        vertical-align: middle;\n",
       "    }\n",
       "\n",
       "    .dataframe tbody tr th {\n",
       "        vertical-align: top;\n",
       "    }\n",
       "\n",
       "    .dataframe thead th {\n",
       "        text-align: right;\n",
       "    }\n",
       "</style>\n",
       "<table border=\"1\" class=\"dataframe\">\n",
       "  <thead>\n",
       "    <tr style=\"text-align: right;\">\n",
       "      <th></th>\n",
       "      <th>PSP</th>\n",
       "      <th>success_txnFee</th>\n",
       "      <th>failure_txnFee</th>\n",
       "    </tr>\n",
       "  </thead>\n",
       "  <tbody>\n",
       "    <tr>\n",
       "      <th>0</th>\n",
       "      <td>Moneycard</td>\n",
       "      <td>5</td>\n",
       "      <td>2.0</td>\n",
       "    </tr>\n",
       "    <tr>\n",
       "      <th>1</th>\n",
       "      <td>Goldcard</td>\n",
       "      <td>10</td>\n",
       "      <td>5.0</td>\n",
       "    </tr>\n",
       "    <tr>\n",
       "      <th>2</th>\n",
       "      <td>UK_Card</td>\n",
       "      <td>3</td>\n",
       "      <td>1.0</td>\n",
       "    </tr>\n",
       "    <tr>\n",
       "      <th>3</th>\n",
       "      <td>Simplecard</td>\n",
       "      <td>1</td>\n",
       "      <td>0.5</td>\n",
       "    </tr>\n",
       "  </tbody>\n",
       "</table>\n",
       "</div>"
      ],
      "text/plain": [
       "          PSP  success_txnFee  failure_txnFee\n",
       "0   Moneycard               5             2.0\n",
       "1    Goldcard              10             5.0\n",
       "2     UK_Card               3             1.0\n",
       "3  Simplecard               1             0.5"
      ]
     },
     "metadata": {},
     "output_type": "display_data"
    }
   ],
   "source": [
    "# Loading PSP transaction fees data into a dataframe\n",
    "\n",
    "ccr_ds1 = pd.DataFrame({\"PSP\" : [\"Moneycard\", \"Goldcard\", \"UK_Card\", \"Simplecard\"], \n",
    "                    \"success_txnFee\":[5, 10, 3, 1],\n",
    "                    \"failure_txnFee\":[2, 5, 1, 0.5]\n",
    "                   })\n",
    "display(ccr_ds1.head())"
   ]
  },
  {
   "cell_type": "code",
   "execution_count": 17,
   "id": "d7f538d3",
   "metadata": {},
   "outputs": [
    {
     "data": {
      "text/html": [
       "<div>\n",
       "<style scoped>\n",
       "    .dataframe tbody tr th:only-of-type {\n",
       "        vertical-align: middle;\n",
       "    }\n",
       "\n",
       "    .dataframe tbody tr th {\n",
       "        vertical-align: top;\n",
       "    }\n",
       "\n",
       "    .dataframe thead th {\n",
       "        text-align: right;\n",
       "    }\n",
       "</style>\n",
       "<table border=\"1\" class=\"dataframe\">\n",
       "  <thead>\n",
       "    <tr style=\"text-align: right;\">\n",
       "      <th></th>\n",
       "      <th>tmsp</th>\n",
       "      <th>country</th>\n",
       "      <th>amount</th>\n",
       "      <th>success</th>\n",
       "      <th>PSP</th>\n",
       "      <th>3D_secured</th>\n",
       "      <th>card</th>\n",
       "      <th>success_txnFee</th>\n",
       "      <th>failure_txnFee</th>\n",
       "    </tr>\n",
       "  </thead>\n",
       "  <tbody>\n",
       "    <tr>\n",
       "      <th>0</th>\n",
       "      <td>2019-01-01 00:01:11</td>\n",
       "      <td>Germany</td>\n",
       "      <td>89</td>\n",
       "      <td>0</td>\n",
       "      <td>UK_Card</td>\n",
       "      <td>0</td>\n",
       "      <td>Visa</td>\n",
       "      <td>3</td>\n",
       "      <td>1.0</td>\n",
       "    </tr>\n",
       "    <tr>\n",
       "      <th>1</th>\n",
       "      <td>2019-01-01 00:01:17</td>\n",
       "      <td>Germany</td>\n",
       "      <td>89</td>\n",
       "      <td>1</td>\n",
       "      <td>UK_Card</td>\n",
       "      <td>0</td>\n",
       "      <td>Visa</td>\n",
       "      <td>3</td>\n",
       "      <td>1.0</td>\n",
       "    </tr>\n",
       "    <tr>\n",
       "      <th>2</th>\n",
       "      <td>2019-01-01 00:02:49</td>\n",
       "      <td>Germany</td>\n",
       "      <td>238</td>\n",
       "      <td>0</td>\n",
       "      <td>UK_Card</td>\n",
       "      <td>1</td>\n",
       "      <td>Diners</td>\n",
       "      <td>3</td>\n",
       "      <td>1.0</td>\n",
       "    </tr>\n",
       "    <tr>\n",
       "      <th>3</th>\n",
       "      <td>2019-01-01 00:03:13</td>\n",
       "      <td>Germany</td>\n",
       "      <td>238</td>\n",
       "      <td>1</td>\n",
       "      <td>UK_Card</td>\n",
       "      <td>1</td>\n",
       "      <td>Diners</td>\n",
       "      <td>3</td>\n",
       "      <td>1.0</td>\n",
       "    </tr>\n",
       "    <tr>\n",
       "      <th>4</th>\n",
       "      <td>2019-01-01 00:06:41</td>\n",
       "      <td>Switzerland</td>\n",
       "      <td>282</td>\n",
       "      <td>0</td>\n",
       "      <td>UK_Card</td>\n",
       "      <td>0</td>\n",
       "      <td>Master</td>\n",
       "      <td>3</td>\n",
       "      <td>1.0</td>\n",
       "    </tr>\n",
       "  </tbody>\n",
       "</table>\n",
       "</div>"
      ],
      "text/plain": [
       "                 tmsp      country  amount  success      PSP  3D_secured  \\\n",
       "0 2019-01-01 00:01:11      Germany      89        0  UK_Card           0   \n",
       "1 2019-01-01 00:01:17      Germany      89        1  UK_Card           0   \n",
       "2 2019-01-01 00:02:49      Germany     238        0  UK_Card           1   \n",
       "3 2019-01-01 00:03:13      Germany     238        1  UK_Card           1   \n",
       "4 2019-01-01 00:06:41  Switzerland     282        0  UK_Card           0   \n",
       "\n",
       "     card  success_txnFee  failure_txnFee  \n",
       "0    Visa               3             1.0  \n",
       "1    Visa               3             1.0  \n",
       "2  Diners               3             1.0  \n",
       "3  Diners               3             1.0  \n",
       "4  Master               3             1.0  "
      ]
     },
     "execution_count": 17,
     "metadata": {},
     "output_type": "execute_result"
    }
   ],
   "source": [
    "# Merging both into a single dataframe \n",
    "\n",
    "merged_ds = pd.merge(ccr_ds, ccr_ds1, on = \"PSP\")\n",
    "merged_ds.head()"
   ]
  },
  {
   "cell_type": "code",
   "execution_count": 18,
   "id": "459fafa6",
   "metadata": {},
   "outputs": [],
   "source": [
    "# Sorting the dataframe by the timestamp\n",
    "\n",
    "merged_ds.sort_values([\"tmsp\"], inplace = True) "
   ]
  },
  {
   "cell_type": "code",
   "execution_count": 19,
   "id": "726c6865",
   "metadata": {},
   "outputs": [],
   "source": [
    "# Finding the difference between consecutive timestamps \n",
    "\n",
    "merged_ds[\"timestamp_difference\"] = merged_ds[\"tmsp\"] - merged_ds[\"tmsp\"].shift(1) \n",
    "merged_ds.reset_index(inplace = True)\n",
    "merged_ds.drop([\"index\"], axis = 1, inplace = True)"
   ]
  },
  {
   "cell_type": "code",
   "execution_count": 20,
   "id": "970c5053",
   "metadata": {},
   "outputs": [],
   "source": [
    "# Converting the difference into seconds\n",
    "\n",
    "merged_ds[\"timestamp_difference\"]  = merged_ds[\"timestamp_difference\"].apply(lambda x: x.total_seconds())"
   ]
  },
  {
   "cell_type": "code",
   "execution_count": 21,
   "id": "a54e333e",
   "metadata": {},
   "outputs": [],
   "source": [
    "# Assigning 1 if transaction is done within a minute after the previous transaction and 0 if not\n",
    "\n",
    "merged_ds[\"within_a_minute\"] =  merged_ds[\"timestamp_difference\"].apply(lambda x : 1 if x <= 60 else 0)"
   ]
  },
  {
   "cell_type": "code",
   "execution_count": 22,
   "id": "9031f5e9",
   "metadata": {},
   "outputs": [],
   "source": [
    "# ‘number_of_attempts’ to get the attempt count based on the given criteria and assigning an initial value of 1\n",
    "\n",
    "merged_ds[\"number_of_attempts\"] = 1"
   ]
  },
  {
   "cell_type": "code",
   "execution_count": 23,
   "id": "9520be6e",
   "metadata": {},
   "outputs": [],
   "source": [
    "# Incrementing the 'number_of_attempts' if within_a_minute is 1\n",
    "\n",
    "for i, r in merged_ds.iterrows():\n",
    "     if i < merged_ds.shape[0] - 1:\n",
    "          if (merged_ds[\"country\"][i] == merged_ds[\"country\"][i + 1]) & (merged_ds[\"amount\"][i] == merged_ds[\"amount\"][i + 1]) & (merged_ds[\"within_a_minute\"][i + 1] <= 60):\n",
    "            merged_ds[\"number_of_attempts\"][i + 1] = merged_ds[\"number_of_attempts\"][i] + 1"
   ]
  },
  {
   "cell_type": "code",
   "execution_count": 24,
   "id": "8b0b07e6",
   "metadata": {},
   "outputs": [
    {
     "data": {
      "text/html": [
       "<div>\n",
       "<style scoped>\n",
       "    .dataframe tbody tr th:only-of-type {\n",
       "        vertical-align: middle;\n",
       "    }\n",
       "\n",
       "    .dataframe tbody tr th {\n",
       "        vertical-align: top;\n",
       "    }\n",
       "\n",
       "    .dataframe thead th {\n",
       "        text-align: right;\n",
       "    }\n",
       "</style>\n",
       "<table border=\"1\" class=\"dataframe\">\n",
       "  <thead>\n",
       "    <tr style=\"text-align: right;\">\n",
       "      <th></th>\n",
       "      <th>tmsp</th>\n",
       "      <th>country</th>\n",
       "      <th>amount</th>\n",
       "      <th>success</th>\n",
       "      <th>PSP</th>\n",
       "      <th>3D_secured</th>\n",
       "      <th>card</th>\n",
       "      <th>success_txnFee</th>\n",
       "      <th>failure_txnFee</th>\n",
       "      <th>timestamp_difference</th>\n",
       "      <th>within_a_minute</th>\n",
       "      <th>number_of_attempts</th>\n",
       "    </tr>\n",
       "  </thead>\n",
       "  <tbody>\n",
       "    <tr>\n",
       "      <th>0</th>\n",
       "      <td>2019-01-01 00:01:11</td>\n",
       "      <td>Germany</td>\n",
       "      <td>89</td>\n",
       "      <td>0</td>\n",
       "      <td>UK_Card</td>\n",
       "      <td>0</td>\n",
       "      <td>Visa</td>\n",
       "      <td>3</td>\n",
       "      <td>1.0</td>\n",
       "      <td>NaN</td>\n",
       "      <td>0</td>\n",
       "      <td>1</td>\n",
       "    </tr>\n",
       "    <tr>\n",
       "      <th>1</th>\n",
       "      <td>2019-01-01 00:01:17</td>\n",
       "      <td>Germany</td>\n",
       "      <td>89</td>\n",
       "      <td>1</td>\n",
       "      <td>UK_Card</td>\n",
       "      <td>0</td>\n",
       "      <td>Visa</td>\n",
       "      <td>3</td>\n",
       "      <td>1.0</td>\n",
       "      <td>6.0</td>\n",
       "      <td>1</td>\n",
       "      <td>2</td>\n",
       "    </tr>\n",
       "    <tr>\n",
       "      <th>2</th>\n",
       "      <td>2019-01-01 00:02:49</td>\n",
       "      <td>Germany</td>\n",
       "      <td>238</td>\n",
       "      <td>0</td>\n",
       "      <td>UK_Card</td>\n",
       "      <td>1</td>\n",
       "      <td>Diners</td>\n",
       "      <td>3</td>\n",
       "      <td>1.0</td>\n",
       "      <td>92.0</td>\n",
       "      <td>0</td>\n",
       "      <td>1</td>\n",
       "    </tr>\n",
       "    <tr>\n",
       "      <th>3</th>\n",
       "      <td>2019-01-01 00:03:13</td>\n",
       "      <td>Germany</td>\n",
       "      <td>238</td>\n",
       "      <td>1</td>\n",
       "      <td>UK_Card</td>\n",
       "      <td>1</td>\n",
       "      <td>Diners</td>\n",
       "      <td>3</td>\n",
       "      <td>1.0</td>\n",
       "      <td>24.0</td>\n",
       "      <td>1</td>\n",
       "      <td>2</td>\n",
       "    </tr>\n",
       "    <tr>\n",
       "      <th>4</th>\n",
       "      <td>2019-01-01 00:04:33</td>\n",
       "      <td>Austria</td>\n",
       "      <td>124</td>\n",
       "      <td>0</td>\n",
       "      <td>Simplecard</td>\n",
       "      <td>0</td>\n",
       "      <td>Diners</td>\n",
       "      <td>1</td>\n",
       "      <td>0.5</td>\n",
       "      <td>80.0</td>\n",
       "      <td>0</td>\n",
       "      <td>1</td>\n",
       "    </tr>\n",
       "  </tbody>\n",
       "</table>\n",
       "</div>"
      ],
      "text/plain": [
       "                 tmsp  country  amount  success         PSP  3D_secured  \\\n",
       "0 2019-01-01 00:01:11  Germany      89        0     UK_Card           0   \n",
       "1 2019-01-01 00:01:17  Germany      89        1     UK_Card           0   \n",
       "2 2019-01-01 00:02:49  Germany     238        0     UK_Card           1   \n",
       "3 2019-01-01 00:03:13  Germany     238        1     UK_Card           1   \n",
       "4 2019-01-01 00:04:33  Austria     124        0  Simplecard           0   \n",
       "\n",
       "     card  success_txnFee  failure_txnFee  timestamp_difference  \\\n",
       "0    Visa               3             1.0                   NaN   \n",
       "1    Visa               3             1.0                   6.0   \n",
       "2  Diners               3             1.0                  92.0   \n",
       "3  Diners               3             1.0                  24.0   \n",
       "4  Diners               1             0.5                  80.0   \n",
       "\n",
       "   within_a_minute  number_of_attempts  \n",
       "0                0                   1  \n",
       "1                1                   2  \n",
       "2                0                   1  \n",
       "3                1                   2  \n",
       "4                0                   1  "
      ]
     },
     "execution_count": 24,
     "metadata": {},
     "output_type": "execute_result"
    }
   ],
   "source": [
    "# Inspecting the dataset\n",
    "\n",
    "merged_ds.head()"
   ]
  },
  {
   "cell_type": "code",
   "execution_count": 25,
   "id": "fe98d1fe",
   "metadata": {},
   "outputs": [],
   "source": [
    "# Extracting the month, day and hour \n",
    "\n",
    "merged_ds[['Month', 'Day', 'Hour']] = merged_ds['tmsp'].apply(lambda x : pd.Series([x.month, x.day, x.hour]))"
   ]
  },
  {
   "cell_type": "code",
   "execution_count": 26,
   "id": "900f267f",
   "metadata": {},
   "outputs": [],
   "source": [
    "# Mapping numeric value to weekday name\n",
    "\n",
    "merged_ds['Weekday'] = merged_ds['tmsp'].dt.dayofweek.map({0 : 'Monday', 1 : 'Tuesday', 2 : 'Wednesday', 3 : 'Thursday', 4 : 'Friday', 5 : 'Saturday', 6 : 'Sunday'})"
   ]
  },
  {
   "cell_type": "code",
   "execution_count": 27,
   "id": "87987d5e",
   "metadata": {},
   "outputs": [
    {
     "data": {
      "text/html": [
       "<div>\n",
       "<style scoped>\n",
       "    .dataframe tbody tr th:only-of-type {\n",
       "        vertical-align: middle;\n",
       "    }\n",
       "\n",
       "    .dataframe tbody tr th {\n",
       "        vertical-align: top;\n",
       "    }\n",
       "\n",
       "    .dataframe thead th {\n",
       "        text-align: right;\n",
       "    }\n",
       "</style>\n",
       "<table border=\"1\" class=\"dataframe\">\n",
       "  <thead>\n",
       "    <tr style=\"text-align: right;\">\n",
       "      <th></th>\n",
       "      <th>tmsp</th>\n",
       "      <th>country</th>\n",
       "      <th>amount</th>\n",
       "      <th>success</th>\n",
       "      <th>PSP</th>\n",
       "      <th>3D_secured</th>\n",
       "      <th>card</th>\n",
       "      <th>success_txnFee</th>\n",
       "      <th>failure_txnFee</th>\n",
       "      <th>timestamp_difference</th>\n",
       "      <th>within_a_minute</th>\n",
       "      <th>number_of_attempts</th>\n",
       "      <th>Month</th>\n",
       "      <th>Day</th>\n",
       "      <th>Hour</th>\n",
       "      <th>Weekday</th>\n",
       "    </tr>\n",
       "  </thead>\n",
       "  <tbody>\n",
       "    <tr>\n",
       "      <th>0</th>\n",
       "      <td>2019-01-01 00:01:11</td>\n",
       "      <td>Germany</td>\n",
       "      <td>89</td>\n",
       "      <td>0</td>\n",
       "      <td>UK_Card</td>\n",
       "      <td>0</td>\n",
       "      <td>Visa</td>\n",
       "      <td>3</td>\n",
       "      <td>1.0</td>\n",
       "      <td>NaN</td>\n",
       "      <td>0</td>\n",
       "      <td>1</td>\n",
       "      <td>1</td>\n",
       "      <td>1</td>\n",
       "      <td>0</td>\n",
       "      <td>Tuesday</td>\n",
       "    </tr>\n",
       "    <tr>\n",
       "      <th>1</th>\n",
       "      <td>2019-01-01 00:01:17</td>\n",
       "      <td>Germany</td>\n",
       "      <td>89</td>\n",
       "      <td>1</td>\n",
       "      <td>UK_Card</td>\n",
       "      <td>0</td>\n",
       "      <td>Visa</td>\n",
       "      <td>3</td>\n",
       "      <td>1.0</td>\n",
       "      <td>6.0</td>\n",
       "      <td>1</td>\n",
       "      <td>2</td>\n",
       "      <td>1</td>\n",
       "      <td>1</td>\n",
       "      <td>0</td>\n",
       "      <td>Tuesday</td>\n",
       "    </tr>\n",
       "    <tr>\n",
       "      <th>2</th>\n",
       "      <td>2019-01-01 00:02:49</td>\n",
       "      <td>Germany</td>\n",
       "      <td>238</td>\n",
       "      <td>0</td>\n",
       "      <td>UK_Card</td>\n",
       "      <td>1</td>\n",
       "      <td>Diners</td>\n",
       "      <td>3</td>\n",
       "      <td>1.0</td>\n",
       "      <td>92.0</td>\n",
       "      <td>0</td>\n",
       "      <td>1</td>\n",
       "      <td>1</td>\n",
       "      <td>1</td>\n",
       "      <td>0</td>\n",
       "      <td>Tuesday</td>\n",
       "    </tr>\n",
       "    <tr>\n",
       "      <th>3</th>\n",
       "      <td>2019-01-01 00:03:13</td>\n",
       "      <td>Germany</td>\n",
       "      <td>238</td>\n",
       "      <td>1</td>\n",
       "      <td>UK_Card</td>\n",
       "      <td>1</td>\n",
       "      <td>Diners</td>\n",
       "      <td>3</td>\n",
       "      <td>1.0</td>\n",
       "      <td>24.0</td>\n",
       "      <td>1</td>\n",
       "      <td>2</td>\n",
       "      <td>1</td>\n",
       "      <td>1</td>\n",
       "      <td>0</td>\n",
       "      <td>Tuesday</td>\n",
       "    </tr>\n",
       "    <tr>\n",
       "      <th>4</th>\n",
       "      <td>2019-01-01 00:04:33</td>\n",
       "      <td>Austria</td>\n",
       "      <td>124</td>\n",
       "      <td>0</td>\n",
       "      <td>Simplecard</td>\n",
       "      <td>0</td>\n",
       "      <td>Diners</td>\n",
       "      <td>1</td>\n",
       "      <td>0.5</td>\n",
       "      <td>80.0</td>\n",
       "      <td>0</td>\n",
       "      <td>1</td>\n",
       "      <td>1</td>\n",
       "      <td>1</td>\n",
       "      <td>0</td>\n",
       "      <td>Tuesday</td>\n",
       "    </tr>\n",
       "  </tbody>\n",
       "</table>\n",
       "</div>"
      ],
      "text/plain": [
       "                 tmsp  country  amount  success         PSP  3D_secured  \\\n",
       "0 2019-01-01 00:01:11  Germany      89        0     UK_Card           0   \n",
       "1 2019-01-01 00:01:17  Germany      89        1     UK_Card           0   \n",
       "2 2019-01-01 00:02:49  Germany     238        0     UK_Card           1   \n",
       "3 2019-01-01 00:03:13  Germany     238        1     UK_Card           1   \n",
       "4 2019-01-01 00:04:33  Austria     124        0  Simplecard           0   \n",
       "\n",
       "     card  success_txnFee  failure_txnFee  timestamp_difference  \\\n",
       "0    Visa               3             1.0                   NaN   \n",
       "1    Visa               3             1.0                   6.0   \n",
       "2  Diners               3             1.0                  92.0   \n",
       "3  Diners               3             1.0                  24.0   \n",
       "4  Diners               1             0.5                  80.0   \n",
       "\n",
       "   within_a_minute  number_of_attempts  Month  Day  Hour  Weekday  \n",
       "0                0                   1      1    1     0  Tuesday  \n",
       "1                1                   2      1    1     0  Tuesday  \n",
       "2                0                   1      1    1     0  Tuesday  \n",
       "3                1                   2      1    1     0  Tuesday  \n",
       "4                0                   1      1    1     0  Tuesday  "
      ]
     },
     "execution_count": 27,
     "metadata": {},
     "output_type": "execute_result"
    }
   ],
   "source": [
    "# Inspecting the dataset\n",
    "\n",
    "merged_ds.head()"
   ]
  },
  {
   "cell_type": "code",
   "execution_count": 28,
   "id": "393df818",
   "metadata": {},
   "outputs": [
    {
     "name": "stdout",
     "output_type": "stream",
     "text": [
      "country : ['Austria' 'Germany' 'Switzerland']\n",
      "PSP : ['Goldcard' 'Moneycard' 'Simplecard' 'UK_Card']\n",
      "card : ['Diners' 'Master' 'Visa']\n",
      "Weekday : ['Friday' 'Monday' 'Saturday' 'Sunday' 'Thursday' 'Tuesday' 'Wednesday']\n"
     ]
    },
    {
     "data": {
      "text/html": [
       "<div>\n",
       "<style scoped>\n",
       "    .dataframe tbody tr th:only-of-type {\n",
       "        vertical-align: middle;\n",
       "    }\n",
       "\n",
       "    .dataframe tbody tr th {\n",
       "        vertical-align: top;\n",
       "    }\n",
       "\n",
       "    .dataframe thead th {\n",
       "        text-align: right;\n",
       "    }\n",
       "</style>\n",
       "<table border=\"1\" class=\"dataframe\">\n",
       "  <thead>\n",
       "    <tr style=\"text-align: right;\">\n",
       "      <th></th>\n",
       "      <th>tmsp</th>\n",
       "      <th>country</th>\n",
       "      <th>amount</th>\n",
       "      <th>success</th>\n",
       "      <th>PSP</th>\n",
       "      <th>3D_secured</th>\n",
       "      <th>card</th>\n",
       "      <th>success_txnFee</th>\n",
       "      <th>failure_txnFee</th>\n",
       "      <th>number_of_attempts</th>\n",
       "      <th>Month</th>\n",
       "      <th>Day</th>\n",
       "      <th>Hour</th>\n",
       "      <th>Weekday</th>\n",
       "    </tr>\n",
       "  </thead>\n",
       "  <tbody>\n",
       "    <tr>\n",
       "      <th>16642</th>\n",
       "      <td>2019-01-19 09:51:01</td>\n",
       "      <td>1</td>\n",
       "      <td>42</td>\n",
       "      <td>0</td>\n",
       "      <td>3</td>\n",
       "      <td>0</td>\n",
       "      <td>2</td>\n",
       "      <td>3</td>\n",
       "      <td>1.0</td>\n",
       "      <td>1</td>\n",
       "      <td>1</td>\n",
       "      <td>19</td>\n",
       "      <td>9</td>\n",
       "      <td>2</td>\n",
       "    </tr>\n",
       "    <tr>\n",
       "      <th>33631</th>\n",
       "      <td>2019-02-08 03:49:54</td>\n",
       "      <td>0</td>\n",
       "      <td>291</td>\n",
       "      <td>0</td>\n",
       "      <td>3</td>\n",
       "      <td>0</td>\n",
       "      <td>1</td>\n",
       "      <td>3</td>\n",
       "      <td>1.0</td>\n",
       "      <td>2</td>\n",
       "      <td>2</td>\n",
       "      <td>8</td>\n",
       "      <td>3</td>\n",
       "      <td>0</td>\n",
       "    </tr>\n",
       "    <tr>\n",
       "      <th>21021</th>\n",
       "      <td>2019-01-25 00:40:50</td>\n",
       "      <td>1</td>\n",
       "      <td>71</td>\n",
       "      <td>0</td>\n",
       "      <td>3</td>\n",
       "      <td>0</td>\n",
       "      <td>1</td>\n",
       "      <td>3</td>\n",
       "      <td>1.0</td>\n",
       "      <td>3</td>\n",
       "      <td>1</td>\n",
       "      <td>25</td>\n",
       "      <td>0</td>\n",
       "      <td>0</td>\n",
       "    </tr>\n",
       "    <tr>\n",
       "      <th>14442</th>\n",
       "      <td>2019-01-16 14:01:54</td>\n",
       "      <td>1</td>\n",
       "      <td>238</td>\n",
       "      <td>0</td>\n",
       "      <td>3</td>\n",
       "      <td>0</td>\n",
       "      <td>0</td>\n",
       "      <td>3</td>\n",
       "      <td>1.0</td>\n",
       "      <td>1</td>\n",
       "      <td>1</td>\n",
       "      <td>16</td>\n",
       "      <td>14</td>\n",
       "      <td>6</td>\n",
       "    </tr>\n",
       "    <tr>\n",
       "      <th>23976</th>\n",
       "      <td>2019-01-29 05:18:16</td>\n",
       "      <td>2</td>\n",
       "      <td>129</td>\n",
       "      <td>0</td>\n",
       "      <td>2</td>\n",
       "      <td>0</td>\n",
       "      <td>2</td>\n",
       "      <td>1</td>\n",
       "      <td>0.5</td>\n",
       "      <td>1</td>\n",
       "      <td>1</td>\n",
       "      <td>29</td>\n",
       "      <td>5</td>\n",
       "      <td>5</td>\n",
       "    </tr>\n",
       "  </tbody>\n",
       "</table>\n",
       "</div>"
      ],
      "text/plain": [
       "                     tmsp  country  amount  success  PSP  3D_secured  card  \\\n",
       "16642 2019-01-19 09:51:01        1      42        0    3           0     2   \n",
       "33631 2019-02-08 03:49:54        0     291        0    3           0     1   \n",
       "21021 2019-01-25 00:40:50        1      71        0    3           0     1   \n",
       "14442 2019-01-16 14:01:54        1     238        0    3           0     0   \n",
       "23976 2019-01-29 05:18:16        2     129        0    2           0     2   \n",
       "\n",
       "       success_txnFee  failure_txnFee  number_of_attempts  Month  Day  Hour  \\\n",
       "16642               3             1.0                   1      1   19     9   \n",
       "33631               3             1.0                   2      2    8     3   \n",
       "21021               3             1.0                   3      1   25     0   \n",
       "14442               3             1.0                   1      1   16    14   \n",
       "23976               1             0.5                   1      1   29     5   \n",
       "\n",
       "       Weekday  \n",
       "16642        2  \n",
       "33631        0  \n",
       "21021        0  \n",
       "14442        6  \n",
       "23976        5  "
      ]
     },
     "execution_count": 28,
     "metadata": {},
     "output_type": "execute_result"
    }
   ],
   "source": [
    "# Performing label encoding\n",
    "\n",
    "\n",
    "import copy\n",
    "merged_ds[\"timestamp_difference\"] = merged_ds[\"timestamp_difference\"].fillna(0)\n",
    "merged_ds.drop(['timestamp_difference', 'within_a_minute'], axis = 1, inplace = True)\n",
    "\n",
    "\n",
    "from sklearn.preprocessing import LabelEncoder\n",
    "le_ds = copy.deepcopy(merged_ds)\n",
    "categorical_cols = [\"country\", \"PSP\", \"card\", \"Weekday\"]\n",
    "label_encoder = LabelEncoder()\n",
    "for cat_col in categorical_cols:\n",
    "        le_ds[cat_col] = label_encoder.fit_transform(le_ds[cat_col])\n",
    "        print(cat_col, \":\", label_encoder.classes_)\n",
    "le_ds.sample(5)"
   ]
  },
  {
   "cell_type": "code",
   "execution_count": 29,
   "id": "feb32609",
   "metadata": {},
   "outputs": [],
   "source": [
    "# Performing one-hot encoding\n",
    "\n",
    "he_ds = copy.deepcopy(merged_ds)\n",
    "\n",
    "categorical_cols = [\"country\", \"PSP\", \"card\", \"Weekday\"]\n",
    "he_ds = pd.get_dummies(he_ds, columns = categorical_cols, drop_first = True)"
   ]
  },
  {
   "cell_type": "code",
   "execution_count": 30,
   "id": "6ace2903",
   "metadata": {},
   "outputs": [
    {
     "name": "stdout",
     "output_type": "stream",
     "text": [
      "(50329, 23)\n"
     ]
    },
    {
     "data": {
      "text/html": [
       "<div>\n",
       "<style scoped>\n",
       "    .dataframe tbody tr th:only-of-type {\n",
       "        vertical-align: middle;\n",
       "    }\n",
       "\n",
       "    .dataframe tbody tr th {\n",
       "        vertical-align: top;\n",
       "    }\n",
       "\n",
       "    .dataframe thead th {\n",
       "        text-align: right;\n",
       "    }\n",
       "</style>\n",
       "<table border=\"1\" class=\"dataframe\">\n",
       "  <thead>\n",
       "    <tr style=\"text-align: right;\">\n",
       "      <th></th>\n",
       "      <th>tmsp</th>\n",
       "      <th>amount</th>\n",
       "      <th>success</th>\n",
       "      <th>3D_secured</th>\n",
       "      <th>success_txnFee</th>\n",
       "      <th>failure_txnFee</th>\n",
       "      <th>number_of_attempts</th>\n",
       "      <th>Month</th>\n",
       "      <th>Day</th>\n",
       "      <th>Hour</th>\n",
       "      <th>country_Germany</th>\n",
       "      <th>country_Switzerland</th>\n",
       "      <th>PSP_Moneycard</th>\n",
       "      <th>PSP_Simplecard</th>\n",
       "      <th>PSP_UK_Card</th>\n",
       "      <th>card_Master</th>\n",
       "      <th>card_Visa</th>\n",
       "      <th>Weekday_Monday</th>\n",
       "      <th>Weekday_Saturday</th>\n",
       "      <th>Weekday_Sunday</th>\n",
       "      <th>Weekday_Thursday</th>\n",
       "      <th>Weekday_Tuesday</th>\n",
       "      <th>Weekday_Wednesday</th>\n",
       "    </tr>\n",
       "  </thead>\n",
       "  <tbody>\n",
       "    <tr>\n",
       "      <th>0</th>\n",
       "      <td>2019-01-01 00:01:11</td>\n",
       "      <td>89</td>\n",
       "      <td>0</td>\n",
       "      <td>0</td>\n",
       "      <td>3</td>\n",
       "      <td>1.0</td>\n",
       "      <td>1</td>\n",
       "      <td>1</td>\n",
       "      <td>1</td>\n",
       "      <td>0</td>\n",
       "      <td>1</td>\n",
       "      <td>0</td>\n",
       "      <td>0</td>\n",
       "      <td>0</td>\n",
       "      <td>1</td>\n",
       "      <td>0</td>\n",
       "      <td>1</td>\n",
       "      <td>0</td>\n",
       "      <td>0</td>\n",
       "      <td>0</td>\n",
       "      <td>0</td>\n",
       "      <td>1</td>\n",
       "      <td>0</td>\n",
       "    </tr>\n",
       "    <tr>\n",
       "      <th>1</th>\n",
       "      <td>2019-01-01 00:01:17</td>\n",
       "      <td>89</td>\n",
       "      <td>1</td>\n",
       "      <td>0</td>\n",
       "      <td>3</td>\n",
       "      <td>1.0</td>\n",
       "      <td>2</td>\n",
       "      <td>1</td>\n",
       "      <td>1</td>\n",
       "      <td>0</td>\n",
       "      <td>1</td>\n",
       "      <td>0</td>\n",
       "      <td>0</td>\n",
       "      <td>0</td>\n",
       "      <td>1</td>\n",
       "      <td>0</td>\n",
       "      <td>1</td>\n",
       "      <td>0</td>\n",
       "      <td>0</td>\n",
       "      <td>0</td>\n",
       "      <td>0</td>\n",
       "      <td>1</td>\n",
       "      <td>0</td>\n",
       "    </tr>\n",
       "    <tr>\n",
       "      <th>2</th>\n",
       "      <td>2019-01-01 00:02:49</td>\n",
       "      <td>238</td>\n",
       "      <td>0</td>\n",
       "      <td>1</td>\n",
       "      <td>3</td>\n",
       "      <td>1.0</td>\n",
       "      <td>1</td>\n",
       "      <td>1</td>\n",
       "      <td>1</td>\n",
       "      <td>0</td>\n",
       "      <td>1</td>\n",
       "      <td>0</td>\n",
       "      <td>0</td>\n",
       "      <td>0</td>\n",
       "      <td>1</td>\n",
       "      <td>0</td>\n",
       "      <td>0</td>\n",
       "      <td>0</td>\n",
       "      <td>0</td>\n",
       "      <td>0</td>\n",
       "      <td>0</td>\n",
       "      <td>1</td>\n",
       "      <td>0</td>\n",
       "    </tr>\n",
       "    <tr>\n",
       "      <th>3</th>\n",
       "      <td>2019-01-01 00:03:13</td>\n",
       "      <td>238</td>\n",
       "      <td>1</td>\n",
       "      <td>1</td>\n",
       "      <td>3</td>\n",
       "      <td>1.0</td>\n",
       "      <td>2</td>\n",
       "      <td>1</td>\n",
       "      <td>1</td>\n",
       "      <td>0</td>\n",
       "      <td>1</td>\n",
       "      <td>0</td>\n",
       "      <td>0</td>\n",
       "      <td>0</td>\n",
       "      <td>1</td>\n",
       "      <td>0</td>\n",
       "      <td>0</td>\n",
       "      <td>0</td>\n",
       "      <td>0</td>\n",
       "      <td>0</td>\n",
       "      <td>0</td>\n",
       "      <td>1</td>\n",
       "      <td>0</td>\n",
       "    </tr>\n",
       "    <tr>\n",
       "      <th>4</th>\n",
       "      <td>2019-01-01 00:04:33</td>\n",
       "      <td>124</td>\n",
       "      <td>0</td>\n",
       "      <td>0</td>\n",
       "      <td>1</td>\n",
       "      <td>0.5</td>\n",
       "      <td>1</td>\n",
       "      <td>1</td>\n",
       "      <td>1</td>\n",
       "      <td>0</td>\n",
       "      <td>0</td>\n",
       "      <td>0</td>\n",
       "      <td>0</td>\n",
       "      <td>1</td>\n",
       "      <td>0</td>\n",
       "      <td>0</td>\n",
       "      <td>0</td>\n",
       "      <td>0</td>\n",
       "      <td>0</td>\n",
       "      <td>0</td>\n",
       "      <td>0</td>\n",
       "      <td>1</td>\n",
       "      <td>0</td>\n",
       "    </tr>\n",
       "  </tbody>\n",
       "</table>\n",
       "</div>"
      ],
      "text/plain": [
       "                 tmsp  amount  success  3D_secured  success_txnFee  \\\n",
       "0 2019-01-01 00:01:11      89        0           0               3   \n",
       "1 2019-01-01 00:01:17      89        1           0               3   \n",
       "2 2019-01-01 00:02:49     238        0           1               3   \n",
       "3 2019-01-01 00:03:13     238        1           1               3   \n",
       "4 2019-01-01 00:04:33     124        0           0               1   \n",
       "\n",
       "   failure_txnFee  number_of_attempts  Month  Day  Hour  country_Germany  \\\n",
       "0             1.0                   1      1    1     0                1   \n",
       "1             1.0                   2      1    1     0                1   \n",
       "2             1.0                   1      1    1     0                1   \n",
       "3             1.0                   2      1    1     0                1   \n",
       "4             0.5                   1      1    1     0                0   \n",
       "\n",
       "   country_Switzerland  PSP_Moneycard  PSP_Simplecard  PSP_UK_Card  \\\n",
       "0                    0              0               0            1   \n",
       "1                    0              0               0            1   \n",
       "2                    0              0               0            1   \n",
       "3                    0              0               0            1   \n",
       "4                    0              0               1            0   \n",
       "\n",
       "   card_Master  card_Visa  Weekday_Monday  Weekday_Saturday  Weekday_Sunday  \\\n",
       "0            0          1               0                 0               0   \n",
       "1            0          1               0                 0               0   \n",
       "2            0          0               0                 0               0   \n",
       "3            0          0               0                 0               0   \n",
       "4            0          0               0                 0               0   \n",
       "\n",
       "   Weekday_Thursday  Weekday_Tuesday  Weekday_Wednesday  \n",
       "0                 0                1                  0  \n",
       "1                 0                1                  0  \n",
       "2                 0                1                  0  \n",
       "3                 0                1                  0  \n",
       "4                 0                1                  0  "
      ]
     },
     "execution_count": 30,
     "metadata": {},
     "output_type": "execute_result"
    }
   ],
   "source": [
    "# Displaying the hot-encoded dataset\n",
    "\n",
    "print(he_ds.shape)\n",
    "he_ds.head()"
   ]
  },
  {
   "cell_type": "markdown",
   "id": "03c2d979",
   "metadata": {},
   "source": [
    "## Visualizing Data "
   ]
  },
  {
   "cell_type": "code",
   "execution_count": 31,
   "id": "62a43ee8",
   "metadata": {},
   "outputs": [],
   "source": [
    "# Importing necessary libraries\n",
    "\n",
    "import plotly.express as px\n",
    "import plotly.graph_objs as go\n",
    "import plotly.subplots"
   ]
  },
  {
   "cell_type": "code",
   "execution_count": 32,
   "id": "366e267d",
   "metadata": {},
   "outputs": [
    {
     "data": {
      "text/html": [
       "<div>\n",
       "<style scoped>\n",
       "    .dataframe tbody tr th:only-of-type {\n",
       "        vertical-align: middle;\n",
       "    }\n",
       "\n",
       "    .dataframe tbody tr th {\n",
       "        vertical-align: top;\n",
       "    }\n",
       "\n",
       "    .dataframe thead th {\n",
       "        text-align: right;\n",
       "    }\n",
       "</style>\n",
       "<table border=\"1\" class=\"dataframe\">\n",
       "  <thead>\n",
       "    <tr style=\"text-align: right;\">\n",
       "      <th></th>\n",
       "      <th>PSP</th>\n",
       "      <th>success_rate_psp</th>\n",
       "      <th>success_rate_psp_percentage</th>\n",
       "    </tr>\n",
       "  </thead>\n",
       "  <tbody>\n",
       "    <tr>\n",
       "      <th>0</th>\n",
       "      <td>Goldcard</td>\n",
       "      <td>0.406172</td>\n",
       "      <td>40.617207</td>\n",
       "    </tr>\n",
       "    <tr>\n",
       "      <th>1</th>\n",
       "      <td>Moneycard</td>\n",
       "      <td>0.218833</td>\n",
       "      <td>21.883289</td>\n",
       "    </tr>\n",
       "    <tr>\n",
       "      <th>2</th>\n",
       "      <td>Simplecard</td>\n",
       "      <td>0.158212</td>\n",
       "      <td>15.821207</td>\n",
       "    </tr>\n",
       "    <tr>\n",
       "      <th>3</th>\n",
       "      <td>UK_Card</td>\n",
       "      <td>0.194861</td>\n",
       "      <td>19.486130</td>\n",
       "    </tr>\n",
       "  </tbody>\n",
       "</table>\n",
       "</div>"
      ],
      "text/plain": [
       "          PSP  success_rate_psp  success_rate_psp_percentage\n",
       "0    Goldcard          0.406172                    40.617207\n",
       "1   Moneycard          0.218833                    21.883289\n",
       "2  Simplecard          0.158212                    15.821207\n",
       "3     UK_Card          0.194861                    19.486130"
      ]
     },
     "metadata": {},
     "output_type": "display_data"
    }
   ],
   "source": [
    "# Calculating psp success rates\n",
    "\n",
    "merged_ds[\"success_rate_psp\"] = merged_ds.groupby(['PSP'])[['success']].transform('mean')\n",
    "psp_rates = merged_ds[[\"PSP\", \"success_rate_psp\"]]\n",
    "psp_success_ds = psp_rates.groupby([\"PSP\"])[[\"success_rate_psp\"]].mean().reset_index()\n",
    "psp_success_ds[\"success_rate_psp_percentage\"] = psp_success_ds[\"success_rate_psp\"] * 100\n",
    "display(psp_success_ds)"
   ]
  },
  {
   "cell_type": "code",
   "execution_count": 33,
   "id": "6d09e636",
   "metadata": {},
   "outputs": [
    {
     "data": {
      "image/png": "[encoded data removed]",
      "text/plain": [
       "<Figure size 720x432 with 1 Axes>"
      ]
     },
     "metadata": {
      "needs_background": "light"
     },
     "output_type": "display_data"
    }
   ],
   "source": [
    "# Bar plot for success rate percentage by PSP\n",
    "\n",
    "plt.figure(figsize = (10, 6))\n",
    "plt.bar(psp_success_ds[\"PSP\"], psp_success_ds[\"success_rate_psp_percentage\"], color = 'lightgreen')\n",
    "plt.xlabel('PSP')\n",
    "plt.ylabel('Success Rate Percentage')\n",
    "plt.title('Success Rate Percentage by PSP')\n",
    "plt.xticks(rotation = 45, ha = 'right')  \n",
    "plt.tight_layout()\n",
    "plt.show()"
   ]
  },
  {
   "cell_type": "code",
   "execution_count": 34,
   "id": "c3d2813d",
   "metadata": {},
   "outputs": [
    {
     "data": {
      "text/html": [
       "<div>\n",
       "<style scoped>\n",
       "    .dataframe tbody tr th:only-of-type {\n",
       "        vertical-align: middle;\n",
       "    }\n",
       "\n",
       "    .dataframe tbody tr th {\n",
       "        vertical-align: top;\n",
       "    }\n",
       "\n",
       "    .dataframe thead th {\n",
       "        text-align: right;\n",
       "    }\n",
       "</style>\n",
       "<table border=\"1\" class=\"dataframe\">\n",
       "  <thead>\n",
       "    <tr style=\"text-align: right;\">\n",
       "      <th></th>\n",
       "      <th>card</th>\n",
       "      <th>success_rate_card</th>\n",
       "      <th>success_rate_card_percentage</th>\n",
       "    </tr>\n",
       "  </thead>\n",
       "  <tbody>\n",
       "    <tr>\n",
       "      <th>0</th>\n",
       "      <td>Diners</td>\n",
       "      <td>0.223247</td>\n",
       "      <td>22.324723</td>\n",
       "    </tr>\n",
       "    <tr>\n",
       "      <th>1</th>\n",
       "      <td>Master</td>\n",
       "      <td>0.194252</td>\n",
       "      <td>19.425156</td>\n",
       "    </tr>\n",
       "    <tr>\n",
       "      <th>2</th>\n",
       "      <td>Visa</td>\n",
       "      <td>0.208756</td>\n",
       "      <td>20.875624</td>\n",
       "    </tr>\n",
       "  </tbody>\n",
       "</table>\n",
       "</div>"
      ],
      "text/plain": [
       "     card  success_rate_card  success_rate_card_percentage\n",
       "0  Diners           0.223247                     22.324723\n",
       "1  Master           0.194252                     19.425156\n",
       "2    Visa           0.208756                     20.875624"
      ]
     },
     "metadata": {},
     "output_type": "display_data"
    }
   ],
   "source": [
    "# Calculating card success rates\n",
    "\n",
    "merged_ds[\"success_rate_card\"] = merged_ds.groupby(['card'])[['success']].transform('mean')\n",
    "card_rates = merged_ds[[\"card\", \"success_rate_card\"]]\n",
    "card_success_ds = card_rates.groupby([\"card\"])[[\"success_rate_card\"]].mean().reset_index()\n",
    "card_success_ds[\"success_rate_card_percentage\"] = card_success_ds[\"success_rate_card\"] * 100\n",
    "display(card_success_ds)"
   ]
  },
  {
   "cell_type": "code",
   "execution_count": 35,
   "id": "33067c36",
   "metadata": {},
   "outputs": [
    {
     "data": {
      "image/png": "[encoded data removed]",
      "text/plain": [
       "<Figure size 720x432 with 1 Axes>"
      ]
     },
     "metadata": {
      "needs_background": "light"
     },
     "output_type": "display_data"
    }
   ],
   "source": [
    "# Bar plot for success rate percentage by card\n",
    "\n",
    "plt.figure(figsize = (10, 6))\n",
    "plt.bar(card_success_ds[\"card\"], card_success_ds[\"success_rate_card_percentage\"], color = 'skyblue')\n",
    "plt.xlabel('Card')\n",
    "plt.ylabel('Success Rate Percentage')\n",
    "plt.title('Success Rate Percentage by Card')\n",
    "plt.xticks(rotation = 45, ha = 'right')  \n",
    "plt.tight_layout()\n",
    "plt.show()"
   ]
  },
  {
   "cell_type": "code",
   "execution_count": 36,
   "id": "9d57c22c",
   "metadata": {},
   "outputs": [
    {
     "data": {
      "text/html": [
       "<div>\n",
       "<style scoped>\n",
       "    .dataframe tbody tr th:only-of-type {\n",
       "        vertical-align: middle;\n",
       "    }\n",
       "\n",
       "    .dataframe tbody tr th {\n",
       "        vertical-align: top;\n",
       "    }\n",
       "\n",
       "    .dataframe thead th {\n",
       "        text-align: right;\n",
       "    }\n",
       "</style>\n",
       "<table border=\"1\" class=\"dataframe\">\n",
       "  <thead>\n",
       "    <tr style=\"text-align: right;\">\n",
       "      <th></th>\n",
       "      <th>country</th>\n",
       "      <th>success_rate_country</th>\n",
       "      <th>success_rate_country_percentage</th>\n",
       "    </tr>\n",
       "  </thead>\n",
       "  <tbody>\n",
       "    <tr>\n",
       "      <th>0</th>\n",
       "      <td>Austria</td>\n",
       "      <td>0.204969</td>\n",
       "      <td>20.496894</td>\n",
       "    </tr>\n",
       "    <tr>\n",
       "      <th>1</th>\n",
       "      <td>Germany</td>\n",
       "      <td>0.201696</td>\n",
       "      <td>20.169626</td>\n",
       "    </tr>\n",
       "    <tr>\n",
       "      <th>2</th>\n",
       "      <td>Switzerland</td>\n",
       "      <td>0.206025</td>\n",
       "      <td>20.602480</td>\n",
       "    </tr>\n",
       "  </tbody>\n",
       "</table>\n",
       "</div>"
      ],
      "text/plain": [
       "       country  success_rate_country  success_rate_country_percentage\n",
       "0      Austria              0.204969                        20.496894\n",
       "1      Germany              0.201696                        20.169626\n",
       "2  Switzerland              0.206025                        20.602480"
      ]
     },
     "metadata": {},
     "output_type": "display_data"
    }
   ],
   "source": [
    "# Calculating country success rates\n",
    "\n",
    "merged_ds[\"success_rate_country\"] = merged_ds.groupby(['country'])[['success']].transform('mean')\n",
    "country_rates = merged_ds[[\"country\", \"success_rate_country\"]]\n",
    "country_success_ds = country_rates.groupby([\"country\"])[[\"success_rate_country\"]].mean().reset_index()\n",
    "country_success_ds[\"success_rate_country_percentage\"] = country_success_ds[\"success_rate_country\"] * 100\n",
    "display(country_success_ds)"
   ]
  },
  {
   "cell_type": "code",
   "execution_count": 37,
   "id": "c564ad10",
   "metadata": {},
   "outputs": [
    {
     "data": {
      "image/png": "[encoded data removed]",
      "text/plain": [
       "<Figure size 720x432 with 1 Axes>"
      ]
     },
     "metadata": {
      "needs_background": "light"
     },
     "output_type": "display_data"
    }
   ],
   "source": [
    "# Bar plot for success rate percentage by country\n",
    "\n",
    "plt.figure(figsize = (10, 6))\n",
    "plt.bar(country_success_ds[\"country\"], country_success_ds[\"success_rate_country_percentage\"], color = 'salmon')\n",
    "plt.xlabel('Country')\n",
    "plt.ylabel('Success Rate Percentage')\n",
    "plt.title('Success Rate Percentage by Country')\n",
    "plt.xticks(rotation = 45, ha = 'right')  \n",
    "plt.tight_layout()\n",
    "plt.show()"
   ]
  },
  {
   "cell_type": "code",
   "execution_count": 38,
   "id": "461dcc06",
   "metadata": {},
   "outputs": [
    {
     "name": "stdout",
     "output_type": "stream",
     "text": [
      "3D_secured\n",
      "0    0.189879\n",
      "1    0.245873\n",
      "Name: success, dtype: float64\n"
     ]
    }
   ],
   "source": [
    "# Calculating 3D Secured success rates\n",
    "\n",
    "secured_3d_rates = merged_ds.groupby('3D_secured')['success'].mean()\n",
    "print(secured_3d_rates)"
   ]
  },
  {
   "cell_type": "code",
   "execution_count": 39,
   "id": "03e955fa",
   "metadata": {},
   "outputs": [
    {
     "data": {
      "image/png": "[encoded data removed]",
      "text/plain": [
       "<Figure size 432x288 with 1 Axes>"
      ]
     },
     "metadata": {
      "needs_background": "light"
     },
     "output_type": "display_data"
    }
   ],
   "source": [
    "# Bar plot for 3D secured\n",
    "\n",
    "secured_3d_rates.plot(kind = \"bar\")\n",
    "plt.title('Success Rate by 3D Secure')\n",
    "plt.xlabel('3D Secure')\n",
    "plt.ylabel('Success Rate')\n",
    "plt.show()"
   ]
  },
  {
   "cell_type": "code",
   "execution_count": 40,
   "id": "1b5060fa",
   "metadata": {},
   "outputs": [
    {
     "data": {
      "text/html": [
       "<div>\n",
       "<style scoped>\n",
       "    .dataframe tbody tr th:only-of-type {\n",
       "        vertical-align: middle;\n",
       "    }\n",
       "\n",
       "    .dataframe tbody tr th {\n",
       "        vertical-align: top;\n",
       "    }\n",
       "\n",
       "    .dataframe thead th {\n",
       "        text-align: right;\n",
       "    }\n",
       "</style>\n",
       "<table border=\"1\" class=\"dataframe\">\n",
       "  <thead>\n",
       "    <tr style=\"text-align: right;\">\n",
       "      <th></th>\n",
       "      <th>success</th>\n",
       "      <th>transaction_count</th>\n",
       "    </tr>\n",
       "  </thead>\n",
       "  <tbody>\n",
       "    <tr>\n",
       "      <th>0</th>\n",
       "      <td>0</td>\n",
       "      <td>21639</td>\n",
       "    </tr>\n",
       "    <tr>\n",
       "      <th>1</th>\n",
       "      <td>1</td>\n",
       "      <td>5653</td>\n",
       "    </tr>\n",
       "  </tbody>\n",
       "</table>\n",
       "</div>"
      ],
      "text/plain": [
       "   success  transaction_count\n",
       "0        0              21639\n",
       "1        1               5653"
      ]
     },
     "metadata": {},
     "output_type": "display_data"
    }
   ],
   "source": [
    "# Creating a DataFrame for first payment attempt\n",
    "\n",
    "first_attempt_ds = merged_ds[merged_ds[\"number_of_attempts\"] == 1][[\"success\"]].value_counts().reset_index(name = \"transaction_count\")\n",
    "display(first_attempt_ds)"
   ]
  },
  {
   "cell_type": "code",
   "execution_count": 41,
   "id": "76fcdd91",
   "metadata": {},
   "outputs": [
    {
     "data": {
      "image/png": "[encoded data removed]",
      "text/plain": [
       "<Figure size 576x432 with 1 Axes>"
      ]
     },
     "metadata": {
      "needs_background": "light"
     },
     "output_type": "display_data"
    }
   ],
   "source": [
    "# Bar plot for transaction count\n",
    "\n",
    "plt.figure(figsize=(8, 6))\n",
    "sns.barplot(x = \"success\", y = \"transaction_count\", data = first_attempt_ds)\n",
    "plt.xlabel('Success')\n",
    "plt.ylabel('Transaction Count')\n",
    "plt.title('First payment attempt transaction count')\n",
    "plt.xticks(rotation = 0)\n",
    "plt.tight_layout()\n",
    "plt.show()"
   ]
  },
  {
   "cell_type": "code",
   "execution_count": 42,
   "id": "d2f3898c",
   "metadata": {},
   "outputs": [
    {
     "data": {
      "text/plain": [
       "Text(0.5, 1.0, 'Amount by Country and Success')"
      ]
     },
     "execution_count": 42,
     "metadata": {},
     "output_type": "execute_result"
    },
    {
     "data": {
      "image/png": "[encoded data removed]",
      "text/plain": [
       "<Figure size 864x576 with 1 Axes>"
      ]
     },
     "metadata": {
      "needs_background": "light"
     },
     "output_type": "display_data"
    }
   ],
   "source": [
    "# Box plot of amount by country\n",
    "\n",
    "plt.figure(figsize=(12, 8))\n",
    "sns.boxplot(data = merged_ds, x = \"country\", y = \"amount\", hue = \"success\")\n",
    "plt.title(\"Amount by Country and Success\")"
   ]
  },
  {
   "cell_type": "code",
   "execution_count": 43,
   "id": "65695337",
   "metadata": {},
   "outputs": [
    {
     "data": {
      "text/plain": [
       "Text(0.5, 1.0, 'Amount by PSP and Success')"
      ]
     },
     "execution_count": 43,
     "metadata": {},
     "output_type": "execute_result"
    },
    {
     "data": {
      "image/png": "[encoded data removed]",
      "text/plain": [
       "<Figure size 864x576 with 1 Axes>"
      ]
     },
     "metadata": {
      "needs_background": "light"
     },
     "output_type": "display_data"
    }
   ],
   "source": [
    "# Box plot of amount by PSP\n",
    "\n",
    "plt.figure(figsize = (12,8))\n",
    "sns.boxplot(data = merged_ds, x = \"PSP\", y = \"amount\", hue = \"success\")\n",
    "plt.title(\"Amount by PSP and Success\")"
   ]
  },
  {
   "cell_type": "code",
   "execution_count": 44,
   "id": "806b7c2a",
   "metadata": {},
   "outputs": [
    {
     "data": {
      "text/plain": [
       "Text(0.5, 1.0, 'Amount by Card and Success')"
      ]
     },
     "execution_count": 44,
     "metadata": {},
     "output_type": "execute_result"
    },
    {
     "data": {
      "image/png": "[encoded data removed]",
      "text/plain": [
       "<Figure size 864x576 with 1 Axes>"
      ]
     },
     "metadata": {
      "needs_background": "light"
     },
     "output_type": "display_data"
    }
   ],
   "source": [
    "# Box plot of amount by card\n",
    "\n",
    "plt.figure(figsize = (12,8))\n",
    "sns.boxplot(data = merged_ds, x = \"card\", y = \"amount\", hue = \"success\")\n",
    "plt.title(\"Amount by Card and Success\")"
   ]
  },
  {
   "cell_type": "code",
   "execution_count": 45,
   "id": "8a1892bc",
   "metadata": {},
   "outputs": [
    {
     "data": {
      "text/plain": [
       "Text(0.5, 1.0, 'Amount by Success')"
      ]
     },
     "execution_count": 45,
     "metadata": {},
     "output_type": "execute_result"
    },
    {
     "data": {
      "image/png": "[encoded data removed]",
      "text/plain": [
       "<Figure size 864x576 with 1 Axes>"
      ]
     },
     "metadata": {
      "needs_background": "light"
     },
     "output_type": "display_data"
    }
   ],
   "source": [
    "# Box plot of amount by success\n",
    "\n",
    "plt.figure(figsize = (12,8))\n",
    "sns.boxplot(data = merged_ds, x = \"success\", y = \"amount\")\n",
    "plt.title(\"Amount by Success\")"
   ]
  },
  {
   "cell_type": "code",
   "execution_count": 46,
   "id": "9e3dc801",
   "metadata": {},
   "outputs": [],
   "source": [
    "# Extracting all the numeric columns\n",
    "\n",
    "numeric_cols = merged_ds.select_dtypes(include = ['int64', 'float64']).columns\n",
    "numeric_ds = merged_ds[numeric_cols]"
   ]
  },
  {
   "cell_type": "code",
   "execution_count": 47,
   "id": "a4e0d96b",
   "metadata": {},
   "outputs": [],
   "source": [
    "# Calculating the correlation matrix\n",
    "\n",
    "correlation_matrix = numeric_ds.corr()"
   ]
  },
  {
   "cell_type": "code",
   "execution_count": 48,
   "id": "ab8e6553",
   "metadata": {},
   "outputs": [
    {
     "data": {
      "image/png": "[encoded data removed]",
      "text/plain": [
       "<Figure size 1152x720 with 2 Axes>"
      ]
     },
     "metadata": {
      "needs_background": "light"
     },
     "output_type": "display_data"
    }
   ],
   "source": [
    "# Plotting the heatmap\n",
    "\n",
    "plt.figure(figsize = (16, 10))\n",
    "sns.heatmap(correlation_matrix, annot = True, cmap = \"coolwarm\", fmt = \".2f\", linewidths = .5)\n",
    "plt.title(\"Correlation Matrix\")\n",
    "plt.show()"
   ]
  },
  {
   "cell_type": "code",
   "execution_count": 49,
   "id": "86ea8a9f",
   "metadata": {},
   "outputs": [
    {
     "data": {
      "image/png": "[encoded data removed]",
      "text/plain": [
       "<Figure size 432x288 with 1 Axes>"
      ]
     },
     "metadata": {
      "needs_background": "light"
     },
     "output_type": "display_data"
    }
   ],
   "source": [
    "# Plotting histogram for amount\n",
    "\n",
    "sns.histplot(merged_ds, x = \"amount\", bins = 30, kde = True)\n",
    "plt.show()"
   ]
  },
  {
   "cell_type": "code",
   "execution_count": 50,
   "id": "052b3883",
   "metadata": {},
   "outputs": [
    {
     "data": {
      "image/png": "[encoded data removed]",
      "text/plain": [
       "<Figure size 432x288 with 1 Axes>"
      ]
     },
     "metadata": {
      "needs_background": "light"
     },
     "output_type": "display_data"
    }
   ],
   "source": [
    "# Count plot for success by country\n",
    "\n",
    "country_cp = sns.countplot(data = merged_ds, x = \"country\", hue = \"success\")\n",
    "plt.show()"
   ]
  },
  {
   "cell_type": "code",
   "execution_count": 51,
   "id": "4536977f",
   "metadata": {},
   "outputs": [
    {
     "data": {
      "image/png": "[encoded data removed]",
      "text/plain": [
       "<Figure size 432x288 with 1 Axes>"
      ]
     },
     "metadata": {
      "needs_background": "light"
     },
     "output_type": "display_data"
    }
   ],
   "source": [
    "# Count plot for success by psp\n",
    "\n",
    "psp_cp = sns.countplot(data = merged_ds, x = \"PSP\", hue = \"success\")\n",
    "plt.show()"
   ]
  },
  {
   "cell_type": "code",
   "execution_count": 52,
   "id": "77463212",
   "metadata": {},
   "outputs": [
    {
     "data": {
      "image/png": "[encoded data removed]",
      "text/plain": [
       "<Figure size 432x288 with 1 Axes>"
      ]
     },
     "metadata": {
      "needs_background": "light"
     },
     "output_type": "display_data"
    }
   ],
   "source": [
    "# Count plot for success by card\n",
    "\n",
    "card_cp = sns.countplot(data = merged_ds, x = \"card\", hue = \"success\")\n",
    "plt.show()"
   ]
  },
  {
   "cell_type": "code",
   "execution_count": 53,
   "id": "b6dcdd52",
   "metadata": {},
   "outputs": [
    {
     "data": {
      "image/png": "[encoded data removed]",
      "text/plain": [
       "<Figure size 432x288 with 1 Axes>"
      ]
     },
     "metadata": {
      "needs_background": "light"
     },
     "output_type": "display_data"
    }
   ],
   "source": [
    "# Count plot for success\n",
    "\n",
    "success_cp = sns.countplot(data = merged_ds, x = \"success\")\n",
    "plt.show()"
   ]
  },
  {
   "cell_type": "code",
   "execution_count": 54,
   "id": "504e6fa2",
   "metadata": {},
   "outputs": [
    {
     "data": {
      "image/png": "[encoded data removed]",
      "text/plain": [
       "<Figure size 432x288 with 1 Axes>"
      ]
     },
     "metadata": {
      "needs_background": "light"
     },
     "output_type": "display_data"
    }
   ],
   "source": [
    "# Count plot of 3D secured by country\n",
    "\n",
    "country_3d = sns.countplot(data = merged_ds, x = \"country\", hue = \"3D_secured\")\n",
    "plt.show()"
   ]
  },
  {
   "cell_type": "code",
   "execution_count": 55,
   "id": "9ca0c263",
   "metadata": {},
   "outputs": [
    {
     "data": {
      "image/png": "[encoded data removed]",
      "text/plain": [
       "<Figure size 432x288 with 1 Axes>"
      ]
     },
     "metadata": {
      "needs_background": "light"
     },
     "output_type": "display_data"
    }
   ],
   "source": [
    "# Count plot of 3D secured by psp\n",
    "\n",
    "psp_3d = sns.countplot(data = merged_ds, x = \"PSP\", hue = \"3D_secured\")\n",
    "plt.show()"
   ]
  },
  {
   "cell_type": "code",
   "execution_count": 56,
   "id": "f0092250",
   "metadata": {},
   "outputs": [
    {
     "data": {
      "image/png": "[encoded data removed]",
      "text/plain": [
       "<Figure size 432x288 with 1 Axes>"
      ]
     },
     "metadata": {
      "needs_background": "light"
     },
     "output_type": "display_data"
    }
   ],
   "source": [
    "# Count plot of 3D secured by country\n",
    "\n",
    "card_3d = sns.countplot(data = merged_ds, x = \"card\", hue = \"3D_secured\")\n",
    "plt.show()"
   ]
  },
  {
   "cell_type": "code",
   "execution_count": 57,
   "id": "a7ee8c72",
   "metadata": {},
   "outputs": [
    {
     "data": {
      "image/png": "[encoded data removed]",
      "text/plain": [
       "<Figure size 432x288 with 1 Axes>"
      ]
     },
     "metadata": {
      "needs_background": "light"
     },
     "output_type": "display_data"
    }
   ],
   "source": [
    "# Count plot for 3D secured\n",
    "\n",
    "secured_3d = sns.countplot(data = merged_ds, x = \"3D_secured\")\n",
    "plt.show()"
   ]
  },
  {
   "cell_type": "code",
   "execution_count": 58,
   "id": "d2efd034",
   "metadata": {},
   "outputs": [
    {
     "name": "stdout",
     "output_type": "stream",
     "text": [
      "1     27292\n",
      "2     12306\n",
      "3      5710\n",
      "4      2655\n",
      "5      1247\n",
      "6       608\n",
      "7       287\n",
      "8       144\n",
      "9        79\n",
      "10        1\n",
      "Name: number_of_attempts, dtype: int64\n"
     ]
    }
   ],
   "source": [
    "# Displaying the number of attempts\n",
    "\n",
    "attempts_count = merged_ds['number_of_attempts'].value_counts()\n",
    "print(attempts_count)"
   ]
  },
  {
   "cell_type": "code",
   "execution_count": 59,
   "id": "606d4f7c",
   "metadata": {},
   "outputs": [
    {
     "data": {
      "image/png": "[encoded data removed]",
      "text/plain": [
       "<Figure size 432x288 with 1 Axes>"
      ]
     },
     "metadata": {
      "needs_background": "light"
     },
     "output_type": "display_data"
    }
   ],
   "source": [
    "# Bar plot for attempt count\n",
    "ac_plot = plt.bar(attempts_count.index, attempts_count.values, color = 'blue')\n",
    "plt.show()"
   ]
  },
  {
   "cell_type": "code",
   "execution_count": 60,
   "id": "909abcba",
   "metadata": {},
   "outputs": [
    {
     "data": {
      "image/png": "[encoded data removed]",
      "text/plain": [
       "<Figure size 432x288 with 1 Axes>"
      ]
     },
     "metadata": {
      "needs_background": "light"
     },
     "output_type": "display_data"
    }
   ],
   "source": [
    "# Bar plot for successful and failed transactions for PSPs\n",
    "\n",
    "merged_ds.groupby('PSP')['success'].value_counts().unstack().plot(kind = 'bar')\n",
    "plt.title('Number of Successful and Failed Transactions for Each PSP')\n",
    "plt.xlabel('PSP')\n",
    "plt.ylabel('Number of Transactions')\n",
    "plt.show()"
   ]
  },
  {
   "cell_type": "markdown",
   "id": "c5da8c2e",
   "metadata": {},
   "source": [
    "## Model Building and Evaluation"
   ]
  },
  {
   "cell_type": "code",
   "execution_count": 61,
   "id": "1210f687",
   "metadata": {},
   "outputs": [],
   "source": [
    "# Separating the target variable from the other features\n",
    "\n",
    "X = he_ds.drop([\"tmsp\", \"success\"], axis = 1)\n",
    "y = he_ds[\"success\"]"
   ]
  },
  {
   "cell_type": "code",
   "execution_count": 62,
   "id": "2650dde1",
   "metadata": {},
   "outputs": [],
   "source": [
    "# Splitting the train and test set\n",
    "\n",
    "from sklearn.model_selection import train_test_split, GridSearchCV\n",
    "X_train, X_test, y_train, y_test = train_test_split(X, y, train_size = 0.8, test_size = 0.2, random_state = 50)"
   ]
  },
  {
   "cell_type": "code",
   "execution_count": 63,
   "id": "c8fbd1d6",
   "metadata": {},
   "outputs": [],
   "source": [
    "# Importing the necessary libraries\n",
    "\n",
    "from sklearn.linear_model import LogisticRegressionCV, LogisticRegression\n",
    "from sklearn.preprocessing import StandardScaler\n",
    "from sklearn.tree import DecisionTreeClassifier\n",
    "from sklearn.ensemble import RandomForestClassifier, AdaBoostClassifier\n",
    "from sklearn.metrics import accuracy_score, classification_report, f1_score, precision_score, recall_score, confusion_matrix\n",
    "from xgboost import XGBClassifier\n",
    "from sklearn import metrics\n",
    "import xgboost as xgb"
   ]
  },
  {
   "cell_type": "code",
   "execution_count": 64,
   "id": "f77eaafa",
   "metadata": {},
   "outputs": [],
   "source": [
    "# Data preprocessing\n",
    "\n",
    "ss = StandardScaler()\n",
    "X_train_scaled = ss.fit_transform(X_train)\n",
    "X_test_scaled = ss.transform(X_test)"
   ]
  },
  {
   "cell_type": "code",
   "execution_count": 65,
   "id": "1e2f542c",
   "metadata": {},
   "outputs": [],
   "source": [
    "# Fitting logistic regression\n",
    "\n",
    "lr_model = LogisticRegression(solver = 'liblinear')"
   ]
  },
  {
   "cell_type": "code",
   "execution_count": 66,
   "id": "f43e5389",
   "metadata": {},
   "outputs": [],
   "source": [
    "# Defining hyperparameters\n",
    "\n",
    "param_grid = {'penalty': ['l1', 'l2'], 'C': [0.1, 1, 10]}"
   ]
  },
  {
   "cell_type": "code",
   "execution_count": 67,
   "id": "fff12bbb",
   "metadata": {},
   "outputs": [],
   "source": [
    "# Performing grid search\n",
    "\n",
    "grid_search = GridSearchCV(lr_model, param_grid, scoring = 'accuracy', cv = 5)\n",
    "grid_search.fit(X_train_scaled, y_train)\n",
    "gs_model = grid_search.best_estimator_"
   ]
  },
  {
   "cell_type": "code",
   "execution_count": 68,
   "id": "d499495e",
   "metadata": {},
   "outputs": [],
   "source": [
    "# Defining a function for evaluation\n",
    "\n",
    "def model_evaluation(gs_model, X, y, dataset):\n",
    "    y_pred = gs_model.predict(X)\n",
    "    accuracy = accuracy_score(y, y_pred)\n",
    "    precision = precision_score(y, y_pred, average = 'weighted')\n",
    "    recall = recall_score(y, y_pred, average = 'weighted')\n",
    "    f1 = f1_score(y, y_pred, average = 'weighted')\n",
    "    cm = confusion_matrix(y, y_pred)\n",
    "\n",
    "    print(f\"{dataset} set:\")\n",
    "    print(\"-\" * 100)\n",
    "    print(\"Accuracy:\", accuracy)\n",
    "    print(\"-\" * 100)\n",
    "    print(\"Precision:\", precision)\n",
    "    print(\"-\" * 100)\n",
    "    print(\"Recall:\", recall)\n",
    "    print(\"-\" * 100)\n",
    "    print(\"F1 Score:\", f1) \n",
    "    print(\"-\" * 100)\n",
    "    print(\"Confusion Matrix:\")\n",
    "    print(cm)"
   ]
  },
  {
   "cell_type": "code",
   "execution_count": 69,
   "id": "4239cef3",
   "metadata": {},
   "outputs": [
    {
     "name": "stdout",
     "output_type": "stream",
     "text": [
      "Training set:\n",
      "----------------------------------------------------------------------------------------------------\n",
      "Accuracy: 0.7956684797456722\n",
      "----------------------------------------------------------------------------------------------------\n",
      "Precision: 0.7484095280543437\n",
      "----------------------------------------------------------------------------------------------------\n",
      "Recall: 0.7956684797456722\n",
      "----------------------------------------------------------------------------------------------------\n",
      "F1 Score: 0.7101093822773492\n",
      "----------------------------------------------------------------------------------------------------\n",
      "Confusion Matrix:\n",
      "[[31915    95]\n",
      " [ 8132   121]]\n"
     ]
    }
   ],
   "source": [
    "# Evaluating model on the training set\n",
    "\n",
    "model_evaluation(gs_model, X_train_scaled, y_train, \"Training\")"
   ]
  },
  {
   "cell_type": "code",
   "execution_count": 70,
   "id": "420a893d",
   "metadata": {},
   "outputs": [
    {
     "name": "stdout",
     "output_type": "stream",
     "text": [
      "Test set:\n",
      "----------------------------------------------------------------------------------------------------\n",
      "Accuracy: 0.8042916749453606\n",
      "----------------------------------------------------------------------------------------------------\n",
      "Precision: 0.7549370138161793\n",
      "----------------------------------------------------------------------------------------------------\n",
      "Recall: 0.8042916749453606\n",
      "----------------------------------------------------------------------------------------------------\n",
      "F1 Score: 0.7219408045614462\n",
      "----------------------------------------------------------------------------------------------------\n",
      "Confusion Matrix:\n",
      "[[8067   24]\n",
      " [1946   29]]\n"
     ]
    }
   ],
   "source": [
    "# Evaluating model on the test set\n",
    "\n",
    "model_evaluation(gs_model, X_test_scaled, y_test, \"Test\")"
   ]
  },
  {
   "cell_type": "code",
   "execution_count": 71,
   "id": "5347073c",
   "metadata": {},
   "outputs": [
    {
     "data": {
      "text/plain": [
       "XGBClassifier(base_score=0.5, booster='gbtree', callbacks=None,\n",
       "              colsample_bylevel=1, colsample_bynode=1, colsample_bytree=1,\n",
       "              early_stopping_rounds=None, enable_categorical=False,\n",
       "              eval_metric=None, gamma=0, gpu_id=-1, grow_policy='depthwise',\n",
       "              importance_type=None, interaction_constraints='',\n",
       "              learning_rate=0.300000012, max_bin=256, max_cat_to_onehot=4,\n",
       "              max_delta_step=0, max_depth=6, max_leaves=0, min_child_weight=1,\n",
       "              missing=nan, monotone_constraints='()', n_estimators=100,\n",
       "              n_jobs=0, num_parallel_tree=1, objective='binary:logistic',\n",
       "              predictor='auto', random_state=0, reg_alpha=0, ...)"
      ]
     },
     "execution_count": 71,
     "metadata": {},
     "output_type": "execute_result"
    }
   ],
   "source": [
    "# XGBoost classifier\n",
    "\n",
    "xgb_cla = xgb.XGBClassifier()\n",
    "xgb_cla.fit(X_train_scaled, y_train)"
   ]
  },
  {
   "cell_type": "code",
   "execution_count": 72,
   "id": "4cc0b205",
   "metadata": {},
   "outputs": [
    {
     "name": "stdout",
     "output_type": "stream",
     "text": [
      "Training set:\n",
      "----------------------------------------------------------------------------------------------------\n",
      "Accuracy: 0.8257953952760599\n",
      "----------------------------------------------------------------------------------------------------\n",
      "Precision: 0.8287803423603577\n",
      "----------------------------------------------------------------------------------------------------\n",
      "Recall: 0.8257953952760599\n",
      "----------------------------------------------------------------------------------------------------\n",
      "F1 Score: 0.7778995982696215\n",
      "----------------------------------------------------------------------------------------------------\n",
      "Confusion Matrix:\n",
      "[[31728   282]\n",
      " [ 6732  1521]]\n"
     ]
    }
   ],
   "source": [
    "# Evaluating model on the training set\n",
    "\n",
    "model_evaluation(xgb_cla, X_train_scaled, y_train, \"Training\")"
   ]
  },
  {
   "cell_type": "code",
   "execution_count": 73,
   "id": "99527716",
   "metadata": {},
   "outputs": [
    {
     "name": "stdout",
     "output_type": "stream",
     "text": [
      "Test set:\n",
      "----------------------------------------------------------------------------------------------------\n",
      "Accuracy: 0.8032982316709716\n",
      "----------------------------------------------------------------------------------------------------\n",
      "Precision: 0.7515867195629772\n",
      "----------------------------------------------------------------------------------------------------\n",
      "Recall: 0.8032982316709716\n",
      "----------------------------------------------------------------------------------------------------\n",
      "F1 Score: 0.7439999101120227\n",
      "----------------------------------------------------------------------------------------------------\n",
      "Confusion Matrix:\n",
      "[[7910  181]\n",
      " [1799  176]]\n"
     ]
    }
   ],
   "source": [
    "# Evaluating model on the test set\n",
    "\n",
    "model_evaluation(xgb_cla, X_test_scaled, y_test, \"Test\")"
   ]
  },
  {
   "cell_type": "code",
   "execution_count": 74,
   "id": "e9c9acc2",
   "metadata": {},
   "outputs": [],
   "source": [
    "# Decision tree classifier\n",
    "\n",
    "dec_tre_cla = DecisionTreeClassifier().fit(X_train_scaled, y_train)"
   ]
  },
  {
   "cell_type": "code",
   "execution_count": 75,
   "id": "2fc19938",
   "metadata": {},
   "outputs": [
    {
     "name": "stdout",
     "output_type": "stream",
     "text": [
      "Training set:\n",
      "----------------------------------------------------------------------------------------------------\n",
      "Accuracy: 0.99987581650647\n",
      "----------------------------------------------------------------------------------------------------\n",
      "Precision: 0.9998758359010496\n",
      "----------------------------------------------------------------------------------------------------\n",
      "Recall: 0.99987581650647\n",
      "----------------------------------------------------------------------------------------------------\n",
      "F1 Score: 0.999875802540953\n",
      "----------------------------------------------------------------------------------------------------\n",
      "Confusion Matrix:\n",
      "[[32010     0]\n",
      " [    5  8248]]\n"
     ]
    }
   ],
   "source": [
    "# Evaluating model on the training set\n",
    "\n",
    "model_evaluation(dec_tre_cla, X_train_scaled, y_train, \"Training\")"
   ]
  },
  {
   "cell_type": "code",
   "execution_count": 76,
   "id": "1b759c48",
   "metadata": {},
   "outputs": [
    {
     "name": "stdout",
     "output_type": "stream",
     "text": [
      "Test set:\n",
      "----------------------------------------------------------------------------------------------------\n",
      "Accuracy: 0.7024637393204848\n",
      "----------------------------------------------------------------------------------------------------\n",
      "Precision: 0.7118574444008502\n",
      "----------------------------------------------------------------------------------------------------\n",
      "Recall: 0.7024637393204848\n",
      "----------------------------------------------------------------------------------------------------\n",
      "F1 Score: 0.7069975152057846\n",
      "----------------------------------------------------------------------------------------------------\n",
      "Confusion Matrix:\n",
      "[[6509 1582]\n",
      " [1413  562]]\n"
     ]
    }
   ],
   "source": [
    "# Evaluating model on the test set\n",
    "\n",
    "model_evaluation(dec_tre_cla, X_test_scaled, y_test, \"Test\")"
   ]
  },
  {
   "cell_type": "code",
   "execution_count": 77,
   "id": "e6046527",
   "metadata": {},
   "outputs": [],
   "source": [
    "# Random forest classifier\n",
    "\n",
    "ran_for_cla = RandomForestClassifier().fit(X_train_scaled, y_train)"
   ]
  },
  {
   "cell_type": "code",
   "execution_count": 78,
   "id": "f2ac46c7",
   "metadata": {},
   "outputs": [
    {
     "name": "stdout",
     "output_type": "stream",
     "text": [
      "Training set:\n",
      "----------------------------------------------------------------------------------------------------\n",
      "Accuracy: 0.99987581650647\n",
      "----------------------------------------------------------------------------------------------------\n",
      "Precision: 0.999875816784923\n",
      "----------------------------------------------------------------------------------------------------\n",
      "Recall: 0.99987581650647\n",
      "----------------------------------------------------------------------------------------------------\n",
      "F1 Score: 0.9998758081286186\n",
      "----------------------------------------------------------------------------------------------------\n",
      "Confusion Matrix:\n",
      "[[32009     1]\n",
      " [    4  8249]]\n"
     ]
    }
   ],
   "source": [
    "# Evaluating model on the training set\n",
    "\n",
    "model_evaluation(ran_for_cla, X_train_scaled, y_train, \"Training\")"
   ]
  },
  {
   "cell_type": "code",
   "execution_count": 79,
   "id": "0cc57aa1",
   "metadata": {},
   "outputs": [
    {
     "name": "stdout",
     "output_type": "stream",
     "text": [
      "Test set:\n",
      "----------------------------------------------------------------------------------------------------\n",
      "Accuracy: 0.7913769123783032\n",
      "----------------------------------------------------------------------------------------------------\n",
      "Precision: 0.7303896410424091\n",
      "----------------------------------------------------------------------------------------------------\n",
      "Recall: 0.7913769123783032\n",
      "----------------------------------------------------------------------------------------------------\n",
      "F1 Score: 0.7406537888620847\n",
      "----------------------------------------------------------------------------------------------------\n",
      "Confusion Matrix:\n",
      "[[7756  335]\n",
      " [1765  210]]\n"
     ]
    }
   ],
   "source": [
    "# Evaluating model on the test set\n",
    "\n",
    "model_evaluation(ran_for_cla, X_test_scaled, y_test, \"Test\")"
   ]
  },
  {
   "cell_type": "code",
   "execution_count": 80,
   "id": "3388403e",
   "metadata": {},
   "outputs": [],
   "source": [
    "# Ada boost classifier\n",
    "\n",
    "ada_boo_cla = AdaBoostClassifier().fit(X_train_scaled, y_train)"
   ]
  },
  {
   "cell_type": "code",
   "execution_count": 81,
   "id": "dec7b615",
   "metadata": {},
   "outputs": [
    {
     "name": "stdout",
     "output_type": "stream",
     "text": [
      "Training set:\n",
      "----------------------------------------------------------------------------------------------------\n",
      "Accuracy: 0.7953456026624941\n",
      "----------------------------------------------------------------------------------------------------\n",
      "Precision: 0.7405682660848305\n",
      "----------------------------------------------------------------------------------------------------\n",
      "Recall: 0.7953456026624941\n",
      "----------------------------------------------------------------------------------------------------\n",
      "F1 Score: 0.7124804741582997\n",
      "----------------------------------------------------------------------------------------------------\n",
      "Confusion Matrix:\n",
      "[[31844   166]\n",
      " [ 8074   179]]\n"
     ]
    }
   ],
   "source": [
    "# Evaluating model on the training set\n",
    "\n",
    "model_evaluation(ada_boo_cla, X_train_scaled, y_train, \"Training\")"
   ]
  },
  {
   "cell_type": "code",
   "execution_count": 82,
   "id": "42b241c9",
   "metadata": {},
   "outputs": [
    {
     "name": "stdout",
     "output_type": "stream",
     "text": [
      "Test set:\n",
      "----------------------------------------------------------------------------------------------------\n",
      "Accuracy: 0.8044903636002384\n",
      "----------------------------------------------------------------------------------------------------\n",
      "Precision: 0.7543650467290139\n",
      "----------------------------------------------------------------------------------------------------\n",
      "Recall: 0.8044903636002384\n",
      "----------------------------------------------------------------------------------------------------\n",
      "F1 Score: 0.7253699354666601\n",
      "----------------------------------------------------------------------------------------------------\n",
      "Confusion Matrix:\n",
      "[[8050   41]\n",
      " [1927   48]]\n"
     ]
    }
   ],
   "source": [
    "# Evaluating model on the test set\n",
    "\n",
    "model_evaluation(ada_boo_cla, X_test_scaled, y_test, \"Test\")"
   ]
  }
 ],
 "metadata": {
  "kernelspec": {
   "display_name": "Python 3",
   "language": "python",
   "name": "python3"
  },
  "language_info": {
   "codemirror_mode": {
    "name": "ipython",
    "version": 3
   },
   "file_extension": ".py",
   "mimetype": "text/x-python",
   "name": "python",
   "nbconvert_exporter": "python",
   "pygments_lexer": "ipython3",
   "version": "3.8.8"
  }
 },
 "nbformat": 4,
 "nbformat_minor": 5
}
